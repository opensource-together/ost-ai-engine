{
  "cells": [
    {
      "cell_type": "markdown",
      "metadata": {
        "vscode": {
          "languageId": "raw"
        }
      },
      "source": [
        "# Exploratory Data Analysis - GitHub Repositories\n",
        "\n",
        "This notebook analyzes the 500 scraped GitHub repositories to understand:\n",
        "- Data quality and completeness\n",
        "- Distribution of languages, topics, and popularity metrics\n",
        "- Text field characteristics\n",
        "- Potential data preprocessing needs\n"
      ]
    },
    {
      "cell_type": "code",
      "execution_count": 2,
      "metadata": {},
      "outputs": [],
      "source": [
        "# Import necessary libraries\n",
        "import pandas as pd\n",
        "import numpy as np\n",
        "import matplotlib.pyplot as plt\n",
        "import seaborn as sns\n",
        "from collections import Counter\n",
        "import warnings\n",
        "warnings.filterwarnings('ignore')\n",
        "\n",
        "# Set up plotting style\n",
        "plt.style.use('seaborn-v0_8')\n",
        "sns.set_palette(\"husl\")\n",
        "plt.rcParams['figure.figsize'] = (12, 8)\n"
      ]
    },
    {
      "cell_type": "code",
      "execution_count": 3,
      "metadata": {},
      "outputs": [
        {
          "name": "stdout",
          "output_type": "stream",
          "text": [
            "Loaded 494 projects from database\n",
            "DataFrame shape: (494, 12)\n"
          ]
        },
        {
          "data": {
            "text/html": [
              "<div>\n",
              "<style scoped>\n",
              "    .dataframe tbody tr th:only-of-type {\n",
              "        vertical-align: middle;\n",
              "    }\n",
              "\n",
              "    .dataframe tbody tr th {\n",
              "        vertical-align: top;\n",
              "    }\n",
              "\n",
              "    .dataframe thead th {\n",
              "        text-align: right;\n",
              "    }\n",
              "</style>\n",
              "<table border=\"1\" class=\"dataframe\">\n",
              "  <thead>\n",
              "    <tr style=\"text-align: right;\">\n",
              "      <th></th>\n",
              "      <th>id</th>\n",
              "      <th>title</th>\n",
              "      <th>description</th>\n",
              "      <th>readme</th>\n",
              "      <th>language</th>\n",
              "      <th>topics</th>\n",
              "      <th>html_url</th>\n",
              "      <th>stargazers_count</th>\n",
              "      <th>forks_count</th>\n",
              "      <th>open_issues_count</th>\n",
              "      <th>pushed_at</th>\n",
              "      <th>created_at</th>\n",
              "    </tr>\n",
              "  </thead>\n",
              "  <tbody>\n",
              "    <tr>\n",
              "      <th>0</th>\n",
              "      <td>7440612b-7c1b-4514-993f-9ac73366979b</td>\n",
              "      <td>MaxRobinsonTheGreat/LifeEngine</td>\n",
              "      <td>The Life Engine</td>\n",
              "      <td>This is the readme for my evolution simulator,...</td>\n",
              "      <td>JavaScript</td>\n",
              "      <td>simulation,evolutionary-algorithms</td>\n",
              "      <td>https://github.com/MaxRobinsonTheGreat/LifeEngine</td>\n",
              "      <td>500</td>\n",
              "      <td>121</td>\n",
              "      <td>20</td>\n",
              "      <td>2024-09-08 23:27:51+00:00</td>\n",
              "      <td>2025-07-10 14:57:57.811660+00:00</td>\n",
              "    </tr>\n",
              "    <tr>\n",
              "      <th>1</th>\n",
              "      <td>6c2b5dad-6fd2-4461-a988-b31cb98397ea</td>\n",
              "      <td>lodash/lodash</td>\n",
              "      <td>A modern JavaScript utility library delivering...</td>\n",
              "      <td># lodash v4.17.21\\n\\n[Site](https://lodash.com...</td>\n",
              "      <td>JavaScript</td>\n",
              "      <td>lodash,utilities,javascript,modules</td>\n",
              "      <td>https://github.com/lodash/lodash</td>\n",
              "      <td>60724</td>\n",
              "      <td>7064</td>\n",
              "      <td>114</td>\n",
              "      <td>2024-12-12 22:27:04+00:00</td>\n",
              "      <td>2025-07-10 14:57:57.811669+00:00</td>\n",
              "    </tr>\n",
              "    <tr>\n",
              "      <th>2</th>\n",
              "      <td>c7683120-345b-466a-bcda-2d9e2446c173</td>\n",
              "      <td>awolfly9/IPProxyTool</td>\n",
              "      <td>python ip proxy tool  scrapy crawl. 抓取大量免费代理 i...</td>\n",
              "      <td># IPProxyTool\\n使用 scrapy 爬虫抓取代理网站，获取大量的免费代理 ip...</td>\n",
              "      <td>Python</td>\n",
              "      <td>proxy,python,ipproxy</td>\n",
              "      <td>https://github.com/awolfly9/IPProxyTool</td>\n",
              "      <td>1994</td>\n",
              "      <td>416</td>\n",
              "      <td>12</td>\n",
              "      <td>2022-12-08 07:42:07+00:00</td>\n",
              "      <td>2025-07-10 14:57:57.811672+00:00</td>\n",
              "    </tr>\n",
              "    <tr>\n",
              "      <th>3</th>\n",
              "      <td>03cddb99-5d46-47bf-9132-0ca82adb9702</td>\n",
              "      <td>jesolem/PCV</td>\n",
              "      <td>Open source Python module for computer vision</td>\n",
              "      <td>## About PCV\\nPCV is a pure Python library for...</td>\n",
              "      <td>Python</td>\n",
              "      <td></td>\n",
              "      <td>https://github.com/jesolem/PCV</td>\n",
              "      <td>1946</td>\n",
              "      <td>679</td>\n",
              "      <td>27</td>\n",
              "      <td>2020-12-28 00:44:46+00:00</td>\n",
              "      <td>2025-07-10 14:57:57.811676+00:00</td>\n",
              "    </tr>\n",
              "    <tr>\n",
              "      <th>4</th>\n",
              "      <td>3200945d-d14e-4b84-b15b-1210f963b783</td>\n",
              "      <td>trycua/cua</td>\n",
              "      <td>c/ua is the Docker Container for Computer-Use ...</td>\n",
              "      <td>&lt;div align=\"center\"&gt;\\n  &lt;picture&gt;\\n    &lt;source...</td>\n",
              "      <td>Python</td>\n",
              "      <td>apple,cua,lume,macos,virtualization,virtualiza...</td>\n",
              "      <td>https://github.com/trycua/cua</td>\n",
              "      <td>8941</td>\n",
              "      <td>404</td>\n",
              "      <td>58</td>\n",
              "      <td>2025-07-09 23:53:08+00:00</td>\n",
              "      <td>2025-07-10 14:57:57.811679+00:00</td>\n",
              "    </tr>\n",
              "  </tbody>\n",
              "</table>\n",
              "</div>"
            ],
            "text/plain": [
              "                                     id                           title  \\\n",
              "0  7440612b-7c1b-4514-993f-9ac73366979b  MaxRobinsonTheGreat/LifeEngine   \n",
              "1  6c2b5dad-6fd2-4461-a988-b31cb98397ea                   lodash/lodash   \n",
              "2  c7683120-345b-466a-bcda-2d9e2446c173            awolfly9/IPProxyTool   \n",
              "3  03cddb99-5d46-47bf-9132-0ca82adb9702                     jesolem/PCV   \n",
              "4  3200945d-d14e-4b84-b15b-1210f963b783                      trycua/cua   \n",
              "\n",
              "                                         description  \\\n",
              "0                                    The Life Engine   \n",
              "1  A modern JavaScript utility library delivering...   \n",
              "2  python ip proxy tool  scrapy crawl. 抓取大量免费代理 i...   \n",
              "3      Open source Python module for computer vision   \n",
              "4  c/ua is the Docker Container for Computer-Use ...   \n",
              "\n",
              "                                              readme    language  \\\n",
              "0  This is the readme for my evolution simulator,...  JavaScript   \n",
              "1  # lodash v4.17.21\\n\\n[Site](https://lodash.com...  JavaScript   \n",
              "2  # IPProxyTool\\n使用 scrapy 爬虫抓取代理网站，获取大量的免费代理 ip...      Python   \n",
              "3  ## About PCV\\nPCV is a pure Python library for...      Python   \n",
              "4  <div align=\"center\">\\n  <picture>\\n    <source...      Python   \n",
              "\n",
              "                                              topics  \\\n",
              "0                 simulation,evolutionary-algorithms   \n",
              "1                lodash,utilities,javascript,modules   \n",
              "2                               proxy,python,ipproxy   \n",
              "3                                                      \n",
              "4  apple,cua,lume,macos,virtualization,virtualiza...   \n",
              "\n",
              "                                            html_url  stargazers_count  \\\n",
              "0  https://github.com/MaxRobinsonTheGreat/LifeEngine               500   \n",
              "1                   https://github.com/lodash/lodash             60724   \n",
              "2            https://github.com/awolfly9/IPProxyTool              1994   \n",
              "3                     https://github.com/jesolem/PCV              1946   \n",
              "4                      https://github.com/trycua/cua              8941   \n",
              "\n",
              "   forks_count  open_issues_count                 pushed_at  \\\n",
              "0          121                 20 2024-09-08 23:27:51+00:00   \n",
              "1         7064                114 2024-12-12 22:27:04+00:00   \n",
              "2          416                 12 2022-12-08 07:42:07+00:00   \n",
              "3          679                 27 2020-12-28 00:44:46+00:00   \n",
              "4          404                 58 2025-07-09 23:53:08+00:00   \n",
              "\n",
              "                        created_at  \n",
              "0 2025-07-10 14:57:57.811660+00:00  \n",
              "1 2025-07-10 14:57:57.811669+00:00  \n",
              "2 2025-07-10 14:57:57.811672+00:00  \n",
              "3 2025-07-10 14:57:57.811676+00:00  \n",
              "4 2025-07-10 14:57:57.811679+00:00  "
            ]
          },
          "execution_count": 3,
          "metadata": {},
          "output_type": "execute_result"
        }
      ],
      "source": [
        "# Load data from database\n",
        "import sys\n",
        "sys.path.append('../src')\n",
        "\n",
        "from infrastructure.postgres.database import SessionLocal\n",
        "from domain.models.schema import Project\n",
        "\n",
        "# Connect to database and load all projects\n",
        "db = SessionLocal()\n",
        "try:\n",
        "    projects = db.query(Project).all()\n",
        "    print(f\"Loaded {len(projects)} projects from database\")\n",
        "finally:\n",
        "    db.close()\n",
        "\n",
        "# Convert to DataFrame\n",
        "df = pd.DataFrame([{\n",
        "    'id': p.id,\n",
        "    'title': p.title,\n",
        "    'description': p.description,\n",
        "    'readme': p.readme,\n",
        "    'language': p.language,\n",
        "    'topics': p.topics,\n",
        "    'html_url': p.html_url,\n",
        "    'stargazers_count': p.stargazers_count,\n",
        "    'forks_count': p.forks_count,\n",
        "    'open_issues_count': p.open_issues_count,\n",
        "    'pushed_at': p.pushed_at,\n",
        "    'created_at': p.created_at\n",
        "} for p in projects])\n",
        "\n",
        "print(f\"DataFrame shape: {df.shape}\")\n",
        "df.head()\n"
      ]
    },
    {
      "cell_type": "markdown",
      "metadata": {
        "vscode": {
          "languageId": "raw"
        }
      },
      "source": [
        "## 1. Data Overview & Quality Assessment\n"
      ]
    },
    {
      "cell_type": "code",
      "execution_count": 4,
      "metadata": {},
      "outputs": [
        {
          "name": "stdout",
          "output_type": "stream",
          "text": [
            "Dataset Info:\n",
            "Total repositories: 494\n",
            "Features: 12\n",
            "\n",
            "Data types:\n",
            "id                                object\n",
            "title                             object\n",
            "description                       object\n",
            "readme                            object\n",
            "language                          object\n",
            "topics                            object\n",
            "html_url                          object\n",
            "stargazers_count                   int64\n",
            "forks_count                        int64\n",
            "open_issues_count                  int64\n",
            "pushed_at            datetime64[ns, UTC]\n",
            "created_at           datetime64[ns, UTC]\n",
            "dtype: object\n",
            "\n",
            "Memory usage:\n",
            "11.930130004882812 MB\n"
          ]
        }
      ],
      "source": [
        "# Basic info about the dataset\n",
        "print(\"Dataset Info:\")\n",
        "print(f\"Total repositories: {len(df)}\")\n",
        "print(f\"Features: {df.shape[1]}\")\n",
        "print(\"\\nData types:\")\n",
        "print(df.dtypes)\n",
        "print(\"\\nMemory usage:\")\n",
        "print(df.memory_usage(deep=True).sum() / 1024**2, \"MB\")\n"
      ]
    },
    {
      "cell_type": "code",
      "execution_count": 5,
      "metadata": {},
      "outputs": [
        {
          "name": "stdout",
          "output_type": "stream",
          "text": [
            "Missing Values Summary:\n",
            "             Missing Count  Missing Percentage\n",
            "description             12            2.429150\n",
            "language                 5            1.012146\n"
          ]
        },
        {
          "data": {
            "image/png": "[encoded data removed]",
            "text/plain": [
              "<Figure size 1000x600 with 1 Axes>"
            ]
          },
          "metadata": {},
          "output_type": "display_data"
        }
      ],
      "source": [
        "# Missing values analysis\n",
        "missing_data = df.isnull().sum()\n",
        "missing_percent = (missing_data / len(df)) * 100\n",
        "missing_df = pd.DataFrame({\n",
        "    'Missing Count': missing_data,\n",
        "    'Missing Percentage': missing_percent\n",
        "})\n",
        "missing_df = missing_df[missing_df['Missing Count'] > 0].sort_values('Missing Count', ascending=False)\n",
        "\n",
        "print(\"Missing Values Summary:\")\n",
        "print(missing_df)\n",
        "\n",
        "# Visualize missing data\n",
        "if not missing_df.empty:\n",
        "    plt.figure(figsize=(10, 6))\n",
        "    missing_df['Missing Percentage'].plot(kind='bar')\n",
        "    plt.title('Missing Data by Column')\n",
        "    plt.ylabel('Missing Percentage (%)')\n",
        "    plt.xticks(rotation=45)\n",
        "    plt.tight_layout()\n",
        "    plt.show()\n",
        "else:\n",
        "    print(\"✅ No missing values found!\")\n"
      ]
    },
    {
      "cell_type": "markdown",
      "metadata": {
        "vscode": {
          "languageId": "raw"
        }
      },
      "source": [
        "## 2. Programming Languages Distribution\n"
      ]
    },
    {
      "cell_type": "code",
      "execution_count": 6,
      "metadata": {},
      "outputs": [
        {
          "name": "stdout",
          "output_type": "stream",
          "text": [
            "Top 15 Programming Languages:\n",
            "language\n",
            "Python        85\n",
            "TypeScript    84\n",
            "JavaScript    83\n",
            "Go            78\n",
            "Rust          74\n",
            "Java          72\n",
            "C              3\n",
            "C++            2\n",
            "Swift          1\n",
            "Julia          1\n",
            "CSS            1\n",
            "PHP            1\n",
            "R              1\n",
            "Vim Script     1\n",
            "HTML           1\n",
            "Name: count, dtype: int64\n"
          ]
        },
        {
          "data": {
            "image/png": "[encoded data removed]",
            "text/plain": [
              "<Figure size 1400x800 with 1 Axes>"
            ]
          },
          "metadata": {},
          "output_type": "display_data"
        },
        {
          "name": "stdout",
          "output_type": "stream",
          "text": [
            "\n",
            "Language Diversity Metrics:\n",
            "Total unique languages: 16\n",
            "Top 5 languages represent: 81.8% of repositories\n"
          ]
        }
      ],
      "source": [
        "# Language distribution\n",
        "language_counts = df['language'].value_counts()\n",
        "print(\"Top 15 Programming Languages:\")\n",
        "print(language_counts.head(15))\n",
        "\n",
        "# Plot language distribution\n",
        "plt.figure(figsize=(14, 8))\n",
        "language_counts.head(15).plot(kind='bar')\n",
        "plt.title('Top 15 Programming Languages Distribution')\n",
        "plt.xlabel('Programming Language')\n",
        "plt.ylabel('Number of Repositories')\n",
        "plt.xticks(rotation=45)\n",
        "plt.tight_layout()\n",
        "plt.show()\n",
        "\n",
        "# Language diversity metrics\n",
        "total_languages = df['language'].nunique()\n",
        "top_5_lang_percent = (language_counts.head(5).sum() / len(df)) * 100\n",
        "print(f\"\\nLanguage Diversity Metrics:\")\n",
        "print(f\"Total unique languages: {total_languages}\")\n",
        "print(f\"Top 5 languages represent: {top_5_lang_percent:.1f}% of repositories\")\n"
      ]
    },
    {
      "cell_type": "raw",
      "metadata": {
        "vscode": {
          "languageId": "raw"
        }
      },
      "source": [
        "## 3. Data Quality Assessment & Recommendations\n"
      ]
    },
    {
      "cell_type": "code",
      "execution_count": null,
      "metadata": {},
      "outputs": [],
      "source": [
        "# Topics analysis\n",
        "all_topics = []\n",
        "topics_per_repo = []\n",
        "\n",
        "for topics_str in df['topics'].dropna():\n",
        "    if topics_str and str(topics_str).strip():\n",
        "        topics_list = [topic.strip() for topic in str(topics_str).split(',')]\n",
        "        topics_list = [topic for topic in topics_list if topic]  # Remove empty strings\n",
        "        all_topics.extend(topics_list)\n",
        "        topics_per_repo.append(len(topics_list))\n",
        "    else:\n",
        "        topics_per_repo.append(0)\n",
        "\n",
        "# Add remaining repos with no topics\n",
        "topics_per_repo.extend([0] * (len(df) - len(topics_per_repo)))\n",
        "\n",
        "topics_counter = Counter(all_topics)\n",
        "print(f\"Total unique topics: {len(topics_counter)}\")\n",
        "print(f\"Average topics per repository: {np.mean(topics_per_repo):.2f}\")\n",
        "print(f\"Repositories with no topics: {topics_per_repo.count(0)}\")\n",
        "\n",
        "print(\"\\nTop 10 Most Common Topics:\")\n",
        "for topic, count in topics_counter.most_common(10):\n",
        "    print(f\"{topic}: {count}\")\n"
      ]
    },
    {
      "cell_type": "code",
      "execution_count": null,
      "metadata": {},
      "outputs": [],
      "source": [
        "# Final assessment and recommendations\n",
        "print(\"=== DATA QUALITY ASSESSMENT ===\")\n",
        "print()\n",
        "\n",
        "# 1. Missing/Empty data\n",
        "print(\"1. MISSING/EMPTY DATA:\")\n",
        "for field in ['description', 'readme', 'topics', 'language']:\n",
        "    null_count = df[field].isnull().sum()\n",
        "    empty_count = (df[field].astype(str).str.strip() == '').sum()\n",
        "    total_missing = null_count + empty_count\n",
        "    percentage = (total_missing / len(df)) * 100\n",
        "    print(f\"   {field}: {total_missing} missing ({percentage:.1f}%)\")\n",
        "\n",
        "print()\n",
        "\n",
        "# 2. Data distribution issues\n",
        "print(\"2. DATA DISTRIBUTION:\")\n",
        "print(f\"   Language concentration: Top 5 languages = {top_5_lang_percent:.1f}% of data\")\n",
        "print(f\"   Repositories with no topics: {topics_per_repo.count(0)} ({(topics_per_repo.count(0)/len(df)*100):.1f}%)\")\n",
        "print(f\"   Star distribution: Median = {df['stargazers_count'].median()}, Mean = {df['stargazers_count'].mean():.0f}\")\n",
        "\n",
        "print()\n",
        "\n",
        "# 3. Recommendations\n",
        "print(\"3. PREPROCESSING RECOMMENDATIONS:\")\n",
        "print(\"   ✓ Handle missing descriptions/readmes (fill with title or remove)\")\n",
        "print(\"   ✓ Standardize topics format (split, clean, lowercase)\")\n",
        "print(\"   ✓ Consider log-scaling for star counts (highly skewed)\")\n",
        "print(\"   ✓ Text cleaning: remove special chars, normalize whitespace\")\n",
        "print(\"   ✓ Language balancing: consider sampling to reduce dominance\")\n",
        "\n",
        "if top_5_lang_percent > 80:\n",
        "    print(\"   ⚠️  HIGH LANGUAGE CONCENTRATION - Consider data balancing\")\n",
        "    \n",
        "if topics_per_repo.count(0) > len(df) * 0.3:\n",
        "    print(\"   ⚠️  MANY REPOS WITHOUT TOPICS - Consider topic extraction from descriptions\")\n",
        "\n",
        "print()\n",
        "print(\"=== DATASET READINESS FOR ML ===\")\n",
        "print(\"✅ Sufficient size for initial training (500 repos)\")\n",
        "print(\"✅ Good text features available for TF-IDF\")\n",
        "print(\"✅ Numerical features for scaling\")\n",
        "print(\"📈 Recommendation: Scale to 1500-2000 repos for better quality\")\n"
      ]
    }
  ],
  "metadata": {
    "kernelspec": {
      "display_name": "data-engine-py13",
      "language": "python",
      "name": "python3"
    },
    "language_info": {
      "codemirror_mode": {
        "name": "ipython",
        "version": 3
      },
      "file_extension": ".py",
      "mimetype": "text/x-python",
      "name": "python",
      "nbconvert_exporter": "python",
      "pygments_lexer": "ipython3",
      "version": "3.13.5"
    }
  },
  "nbformat": 4,
  "nbformat_minor": 2
}
